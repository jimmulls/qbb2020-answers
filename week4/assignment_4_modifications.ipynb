{
 "cells": [
  {
   "cell_type": "markdown",
   "metadata": {},
   "source": [
    "## Command Line Commands"
   ]
  },
  {
   "cell_type": "markdown",
   "metadata": {},
   "source": [
    "transeq seqdump1.txt\n",
    "\n",
    "mafft prot_seq1.pet > prot_alignment1.txt\n",
    "\n",
    "\n",
    "NOTE: seqdump1 includes the week4_query sequence pasted above the first BLAST result. This file was then run through transeq and mafft. "
   ]
  },
  {
   "cell_type": "markdown",
   "metadata": {},
   "source": [
    "## Python Scripts"
   ]
  },
  {
   "cell_type": "code",
   "execution_count": 1,
   "metadata": {},
   "outputs": [],
   "source": [
    "from fasta_iterator_class import FASTAReader\n",
    "import math\n",
    "import matplotlib.pyplot as plt\n",
    "import numpy as np\n",
    "import scipy.stats as sts"
   ]
  },
  {
   "cell_type": "code",
   "execution_count": 2,
   "metadata": {},
   "outputs": [],
   "source": [
    "nt_sequences=FASTAReader(open(\"seqdump1.txt\",'r'))\n",
    "protein_alignment=FASTAReader(open('prot_alignment1.txt'))\n",
    "nt_alignment=open(\"nt_alignmnet1.fa\",\"w+\")\n",
    "##nt_alignment.write(\">query\" + '\\n')\n",
    "for nt,prot in zip(nt_sequences,protein_alignment):\n",
    "    nt_alignment.write('>' + nt[0]+\"\\n\")\n",
    "    seqwgaps=\"\"\n",
    "    nt_count=0\n",
    "    prot_count=0\n",
    "    protein=prot[1]\n",
    "    dna=nt[1]\n",
    "    while prot_count<len(protein):\n",
    "        if protein[prot_count]==\"-\":\n",
    "            seqwgaps+=\"---\"\n",
    "        else:\n",
    "            seqwgaps+=dna[nt_count:nt_count+3]\n",
    "            nt_count+=3\n",
    "        prot_count+=1\n",
    "    nt_alignment.write(seqwgaps+\"\\n\")\n",
    "nt_alignment.close()"
   ]
  },
  {
   "cell_type": "code",
   "execution_count": 3,
   "metadata": {},
   "outputs": [],
   "source": [
    "gapnt=FASTAReader(open(\"nt_alignmnet1.fa\",'r'))\n",
    "##query=FASTAReader(open('week4_query.fa', 'r'))\n",
    "\n",
    "\n",
    "codontable = {\n",
    "'ATA':'I', 'ATC':'I', 'ATT':'I', 'ATG':'M',\n",
    "'ACA':'T', 'ACC':'T', 'ACG':'T', 'ACT':'T',\n",
    "'AAC':'N', 'AAT':'N', 'AAA':'K', 'AAG':'K',\n",
    "'AGC':'S', 'AGT':'S', 'AGA':'R', 'AGG':'R',\n",
    "'CTA':'L', 'CTC':'L', 'CTG':'L', 'CTT':'L',\n",
    "'CCA':'P', 'CCC':'P', 'CCG':'P', 'CCT':'P',\n",
    "'CAC':'H', 'CAT':'H', 'CAA':'Q', 'CAG':'Q',\n",
    "'CGA':'R', 'CGC':'R', 'CGG':'R', 'CGT':'R',\n",
    "'GTA':'V', 'GTC':'V', 'GTG':'V', 'GTT':'V',\n",
    "'GCA':'A', 'GCC':'A', 'GCG':'A', 'GCT':'A',\n",
    "'GAC':'D', 'GAT':'D', 'GAA':'E', 'GAG':'E',\n",
    "'GGA':'G', 'GGC':'G', 'GGG':'G', 'GGT':'G',\n",
    "'TCA':'S', 'TCC':'S', 'TCG':'S', 'TCT':'S',\n",
    "'TTC':'F', 'TTT':'F', 'TTA':'L', 'TTG':'L',\n",
    "'TAC':'Y', 'TAT':'Y', 'TAA':'_', 'TAG':'_',\n",
    "'TGC':'C', 'TGT':'C', 'TGA':'_', 'TGG':'W'\n",
    "}\n",
    "\n",
    "\n",
    "dN = []\n",
    "dS = []\n",
    "\n",
    "\n",
    "ref=''\n",
    "count=0\n",
    "query_list = []\n",
    "for query in gapnt:\n",
    "    if count<1:\n",
    "        ref=query[1]\n",
    "        count+=1\n",
    "\n",
    "gapped2 = FASTAReader(open(\"nt_alignmnet1.fa\",'r'))\n",
    "counter=0\n",
    "for line in gapped2:\n",
    "    if counter >= 1:\n",
    "        query_list.append(line[1])\n",
    "    counter+=1\n",
    "\n",
    "        \n",
    "for codon in range(0, len(ref), 3):\n",
    "\n",
    "    dS_temp = 0\n",
    "    dN_temp = 0\n",
    "    \n",
    "    if ref[codon:codon+3] == '---': \n",
    "    ##or ref[codon:codon+3] not in codontable:\n",
    "        pass\n",
    "    \n",
    "    else:\n",
    "        \n",
    "        nuc1 = ref[codon:codon+3]\n",
    "        ref_aa = codontable[nuc1]\n",
    "        \n",
    "        for compare in query_list:\n",
    "            \n",
    "            if compare[codon:codon+3] == '---' or compare[codon:codon+3] not in codontable:\n",
    "                \n",
    "                pass\n",
    "            \n",
    "            else:\n",
    "                \n",
    "                nuc2 = compare[codon:codon+3]\n",
    "                query_aa = codontable[nuc2]\n",
    "    \n",
    "        \n",
    "                if (nuc1 != nuc2) and (ref_aa == query_aa):\n",
    "                    dS_temp += 1\n",
    "\n",
    "                elif (nuc1 != nuc2) and (ref_aa != query_aa):\n",
    "                    dN_temp += 1\n",
    "                \n",
    "        dS.append(dS_temp)\n",
    "        dN.append(dN_temp)\n",
    "\n",
    "            \n"
   ]
  },
  {
   "cell_type": "code",
   "execution_count": 4,
   "metadata": {},
   "outputs": [
    {
     "data": {
      "text/plain": [
       "303882"
      ]
     },
     "execution_count": 4,
     "metadata": {},
     "output_type": "execute_result"
    }
   ],
   "source": [
    "np.sum(dS)"
   ]
  },
  {
   "cell_type": "code",
   "execution_count": 47,
   "metadata": {},
   "outputs": [],
   "source": [
    "dN_dS = []\n",
    "for n,s in zip(dN,dS):\n",
    "    dN_dS.append(n-s)\n",
    "    \n",
    "std=np.std(dN_dS)\n",
    "zscore= []\n",
    "for codon in dN_dS:\n",
    "    zscore.append(codon/std)\n",
    "p_values = (sts.norm.sf(zscore)) * 2"
   ]
  },
  {
   "cell_type": "code",
   "execution_count": 48,
   "metadata": {},
   "outputs": [
    {
     "data": {
      "text/plain": [
       "array([9.58657314e-05, 8.57664270e-01, 1.30983912e-04, ...,\n",
       "       6.76577136e-03, 8.48999941e-03, 5.51314724e-03])"
      ]
     },
     "execution_count": 48,
     "metadata": {},
     "output_type": "execute_result"
    }
   ],
   "source": [
    "p_values"
   ]
  },
  {
   "cell_type": "code",
   "execution_count": 55,
   "metadata": {},
   "outputs": [
    {
     "data": {
      "text/plain": [
       "Text(0, 0.5, 'log2 dN/dS')"
      ]
     },
     "execution_count": 55,
     "metadata": {},
     "output_type": "execute_result"
    },
    {
     "data": {
      "image/png": "[encoded data removed]",
      "text/plain": [
       "<Figure size 432x288 with 1 Axes>"
      ]
     },
     "metadata": {
      "needs_background": "light"
     },
     "output_type": "display_data"
    }
   ],
   "source": [
    "codon=[]\n",
    "codon_sig = []\n",
    "dNdS=[]\n",
    "dNdS_sig  = []\n",
    "for i in range(len(dN)):\n",
    "    if dN[i]!=0 and dS[i]!=0 and p_values[i] > 0.05:\n",
    "        dNdS.append(math.log((dN[i]/dS[i]),2))\n",
    "        codon.append(i)\n",
    "    elif dN[i]!=0 and dS[i]!=0 and p_values[i] < 0.05:\n",
    "        dNdS_sig.append(math.log((dN[i]/dS[i]), 2))\n",
    "        codon_sig.append(i)\n",
    "plt.scatter(codon,dNdS, label = \"Not significant\")\n",
    "plt.scatter(codon_sig,dNdS_sig, label = \"Significant\")\n",
    "plt.title(\"Log ratio of dN/dS per codon\")\n",
    "plt.legend(loc = 'upper right')\n",
    "plt.xlabel(\"Codon\")\n",
    "plt.ylabel(\"log2 dN/dS\")"
   ]
  },
  {
   "cell_type": "code",
   "execution_count": null,
   "metadata": {},
   "outputs": [],
   "source": []
  },
  {
   "cell_type": "code",
   "execution_count": null,
   "metadata": {},
   "outputs": [],
   "source": []
  },
  {
   "cell_type": "code",
   "execution_count": null,
   "metadata": {},
   "outputs": [],
   "source": []
  }
 ],
 "metadata": {
  "kernelspec": {
   "display_name": "Python 3",
   "language": "python",
   "name": "python3"
  },
  "language_info": {
   "codemirror_mode": {
    "name": "ipython",
    "version": 3
   },
   "file_extension": ".py",
   "mimetype": "text/x-python",
   "name": "python",
   "nbconvert_exporter": "python",
   "pygments_lexer": "ipython3",
   "version": "3.6.10"
  }
 },
 "nbformat": 4,
 "nbformat_minor": 4
}
