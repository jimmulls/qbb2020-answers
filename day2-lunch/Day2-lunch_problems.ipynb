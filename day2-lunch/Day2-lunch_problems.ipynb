{
 "cells": [
  {
   "cell_type": "markdown",
   "metadata": {},
   "source": [
    "# 1. Mapping FlyBase genes to UniProt"
   ]
  },
  {
   "cell_type": "code",
   "execution_count": 89,
   "metadata": {},
   "outputs": [],
   "source": [
    "fh = open('fly.txt', 'r')\n",
    "fh2 = open('fly_output.txt', mode='w')\n",
    "\n",
    "##counter = 0\n",
    "fh2.write('FlyBase ID' + '\\t' + 'Uniprot ID (AC)' + '\\n')\n",
    "\n",
    "for line in fh:\n",
    "    ##if counter < 10:\n",
    "    if \"DROME\" in line:\n",
    "        if \"FBgn\" in line:\n",
    "            line_list = line.split()\n",
    "            \n",
    "            ##print(line_list[-1] + line_list[-2])\n",
    "            ##if len(line_list) == 4:\n",
    "            \n",
    "            fh2.write(line_list[-1] + '\\t' + line_list[-2] + '\\n')\n",
    "                ##print(line_list[3] + '\\t' + line_list[2] + '\\n')\n",
    "                ##print(line_list)\n",
    "            ##counter+=1\n",
    "\n",
    "fh.close()\n",
    "fh2.close()"
   ]
  },
  {
   "cell_type": "markdown",
   "metadata": {},
   "source": [
    "# 2. Identifier mapping"
   ]
  },
  {
   "cell_type": "code",
   "execution_count": 83,
   "metadata": {},
   "outputs": [],
   "source": [
    "##def translator(mapping_file, c_tab, test=0.0):\n",
    "    \n",
    "    ##fh = open(mapping_file)\n",
    "    \n",
    "fh = open('fly_output.txt', 'r')\n",
    "fh2 = open('t_data.ctab', 'r')\n",
    "fh3 = open('Translation.txt', 'w')\n",
    "\n",
    "fh3.write('t_id' + '\\t' + 'chr' + '\\t' +'strand' + '\\t'  'start' + '\\t'+'end'+'\\t'+'t_name'+'\\t'+'num_exons'+'\\t'+'length'+'\\t'+ 'UniProt_ID' + '\\t'+ 'gene_name'+'\\t'+'cov'+'\\t'+'FPKM'+'\\n')\n",
    "\n",
    "##counter = 0\n",
    "counter2 = 0\n",
    "fly_dict={}\n",
    "\n",
    "for line in fh:\n",
    "    if 'FBgn' in line:\n",
    "        ##if counter < 100:\n",
    "        line_split = line.split()\n",
    "        fly_dict[line_split[0]]=line_split[1]\n",
    "            \n",
    "            ##counter+=1\n",
    "            \n",
    "for line2 in fh2:\n",
    "    if 'FBgn' in line2:\n",
    "        if counter2 < 100:\n",
    "            line_split2 = line2.split()\n",
    "            FBgn = line_split2[-4]\n",
    "            if FBgn in fly_dict:\n",
    "            \n",
    "                line_split2[-4] = fly_dict[FBgn]\n",
    "                fh3.write('\\t'.join(line_split2)+'\\n')\n",
    "            \n",
    "                counter2 += 1\n",
    "##print(fly_dict)\n",
    "        \n",
    "fh.close()\n",
    "fh2.close()\n",
    "fh3.close()"
   ]
  },
  {
   "cell_type": "code",
   "execution_count": 90,
   "metadata": {},
   "outputs": [],
   "source": [
    "def translator(mapping_file, c_tab, test=('pass' + '\\n')):\n",
    "    ###This function will replace gene_ID with UniProt ID\n",
    "    ### in a newly outputted file 'Translations.txt'\n",
    "    ### It requires that the input files are in the same folder\n",
    "    \n",
    "    ##fh = open(mapping_file)\n",
    "    \n",
    "    fh = open(mapping_file, 'r')\n",
    "    fh2 = open(c_tab, 'r')\n",
    "    fh3 = open('Translation.txt', 'w')\n",
    "\n",
    "    fh3.write('t_id' + '\\t' + 'chr' + '\\t' +'strand' + '\\t'  'start' + '\\t'+'end'+'\\t'+'t_name'+'\\t'+'num_exons'+'\\t'+'length'+'\\t'+ 'UniProt_ID' + '\\t'+ 'gene_name'+'\\t'+'cov'+'\\t'+'FPKM'+'\\n')\n",
    "\n",
    "##counter = 0\n",
    "    counter2 = 0\n",
    "    fly_dict={}\n",
    "\n",
    "    for line in fh:\n",
    "        if 'FBgn' in line:\n",
    "            ##if counter < 100:\n",
    "            line_split = line.split()\n",
    "            fly_dict[line_split[0]]=line_split[1]\n",
    "            \n",
    "                ##counter+=1\n",
    "            \n",
    "    for line2 in fh2:\n",
    "        if counter2 == 100:\n",
    "            break\n",
    "        elif 'FBgn' in line2:\n",
    "            if counter2 < 100:\n",
    "                line_split2 = line2.split()\n",
    "                FBgn = line_split2[-4]\n",
    "                if FBgn in fly_dict:\n",
    "            \n",
    "                    line_split2[-4] = fly_dict[FBgn]\n",
    "                    fh3.write('\\t'.join(line_split2)+'\\n')\n",
    "                \n",
    "                    counter2 += 1\n",
    "                    \n",
    "                else:\n",
    "                    fh3.write(test)\n",
    "            \n",
    "                    \n",
    "##print(fly_dict)\n",
    "        \n",
    "    fh.close()\n",
    "    fh2.close()\n",
    "    fh3.close()"
   ]
  },
  {
   "cell_type": "code",
   "execution_count": 93,
   "metadata": {},
   "outputs": [],
   "source": [
    "###Running this will have more than 100 lines of output,\n",
    "### because it will still read through 100 lines of the input file\n",
    "### until 100 replaced lines have been written in the output file\n",
    "###The additional lines are \"passes\" that occur when the ID's don't match up\n",
    "translator('fly_output.txt', 't_data.ctab')"
   ]
  },
  {
   "cell_type": "code",
   "execution_count": 94,
   "metadata": {},
   "outputs": [],
   "source": [
    "###This will give the first 100 lines of output without any default\n",
    "### values being appended to the text file.\n",
    "translator('fly_output.txt', 't_data.ctab', test='')"
   ]
  },
  {
   "cell_type": "code",
   "execution_count": null,
   "metadata": {},
   "outputs": [],
   "source": []
  },
  {
   "cell_type": "code",
   "execution_count": null,
   "metadata": {},
   "outputs": [],
   "source": []
  },
  {
   "cell_type": "code",
   "execution_count": null,
   "metadata": {},
   "outputs": [],
   "source": []
  }
 ],
 "metadata": {
  "kernelspec": {
   "display_name": "Python 3",
   "language": "python",
   "name": "python3"
  },
  "language_info": {
   "codemirror_mode": {
    "name": "ipython",
    "version": 3
   },
   "file_extension": ".py",
   "mimetype": "text/x-python",
   "name": "python",
   "nbconvert_exporter": "python",
   "pygments_lexer": "ipython3",
   "version": "3.6.10"
  }
 },
 "nbformat": 4,
 "nbformat_minor": 4
}
