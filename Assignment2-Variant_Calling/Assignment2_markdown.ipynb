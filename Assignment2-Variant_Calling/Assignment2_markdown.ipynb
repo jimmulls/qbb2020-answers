{
 "cells": [
  {
   "cell_type": "markdown",
   "metadata": {},
   "source": [
    "Step 1:\n",
    "\n",
    "bwa index sacCer3.fa\n",
    "\n",
    "Step 2:\n",
    "\n",
    "bash bwa_mem_aligner.sh\n",
    "\n",
    "Step 3-7:\n",
    "\n",
    "Run the bash file with the given steps uncommented.\n",
    "\n",
    "For the first 1000 lines:\n",
    "\n",
    "head -n 1000 year_vars_effect_pred.vcf > years_vars_effect_pred_1000.vcf\n",
    "\n",
    "Step 8: See VCF_Graphing_Scripts for the python scripts used to generate the multi-panel plot.\n",
    "\n",
    "\n",
    "\n",
    "\n",
    "\n",
    "\n",
    "\n",
    "\n",
    "\n",
    "\n",
    "\n",
    "\n",
    "\n",
    "\n",
    "\n",
    "\n",
    "\n",
    "\n",
    "\n",
    "\n",
    "\n",
    "\n",
    "\n",
    "\n",
    "\n",
    "\n",
    "\n",
    "\n",
    "\n",
    "\n",
    "\n",
    "\n",
    "\n",
    "\n",
    "\n",
    "\n",
    "\n",
    "\n",
    "\n",
    "\n",
    "\n"
   ]
  }
 ],
 "metadata": {
  "kernelspec": {
   "display_name": "Python 3",
   "language": "python",
   "name": "python3"
  },
  "language_info": {
   "codemirror_mode": {
    "name": "ipython",
    "version": 3
   },
   "file_extension": ".py",
   "mimetype": "text/x-python",
   "name": "python",
   "nbconvert_exporter": "python",
   "pygments_lexer": "ipython3",
   "version": "3.6.10"
  }
 },
 "nbformat": 4,
 "nbformat_minor": 4
}
